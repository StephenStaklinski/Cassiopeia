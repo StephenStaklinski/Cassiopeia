{
 "cells": [
  {
   "cell_type": "markdown",
   "metadata": {},
   "source": [
    "# Cassiopeia Benchmarking Pipeline\n",
    "\n",
    "Here, we simulate trees with ecDNA. Based on benchmark.ipynb \n",
    "\n",
    "\"You can install Cassiopeia by following the guide [here](https://cassiopeia-lineage.readthedocs.io/en/latest/installation.html).\"\n",
    "\n",
    "\"All of our documentation is hosted [here](https://cassiopeia-lineage.readthedocs.io/en/latest/).\""
   ]
  },
  {
   "cell_type": "code",
   "execution_count": 1,
   "metadata": {},
   "outputs": [],
   "source": [
    "import cProfile\n",
    "from collections import defaultdict\n",
    "import copy\n",
    "import matplotlib.pyplot as plt\n",
    "import numpy as np\n",
    "import pandas as pd\n",
    "import seaborn as sns\n",
    "import time\n",
    "from tqdm.auto import tqdm\n",
    "\n",
    "import cassiopeia as cas\n",
    "from cassiopeia.solver import missing_data_methods"
   ]
  },
  {
   "cell_type": "code",
   "execution_count": 2,
   "metadata": {},
   "outputs": [],
   "source": [
    "from IPython.display import Image\n"
   ]
  },
  {
   "cell_type": "code",
   "execution_count": null,
   "metadata": {},
   "outputs": [],
   "source": [
    "np.inf"
   ]
  },
  {
   "cell_type": "markdown",
   "metadata": {},
   "source": [
    "## Tree Simulation\n",
    "\n",
    "ecDNABirthDeathSimulator is based on BirthDeathFitnesSimulator, which is documented [here](https://cassiopeia-lineage.readthedocs.io/en/latest/api/reference/cassiopeia.sim.BirthDeathFitnessSimulator.html). "
   ]
  },
  {
   "cell_type": "code",
   "execution_count": 8,
   "metadata": {},
   "outputs": [
    {
     "name": "stdout",
     "output_type": "stream",
     "text": [
      "current_lineages is empty\n",
      "\n",
      "\n"
     ]
    }
   ],
   "source": [
    "bd_sim = cas.sim.ecDNABirthDeathSimulator(\n",
    "    birth_waiting_distribution = lambda scale: np.random.exponential(scale),\n",
    "    initial_birth_scale = 0.5,\n",
    "    death_waiting_distribution = lambda: np.inf, # lambda: np.random.exponential(1.5),\n",
    "    mutation_distribution = lambda: 1 if np.random.uniform() < 0.5 else 0,\n",
    "    fitness_distribution = lambda: np.random.normal(0, .5),\n",
    "    fitness_base = 1.3,\n",
    "    num_extant = 4,\n",
    "    random_seed=17, \n",
    "    initial_copy_number = np.array([7,3,5]),\n",
    "    splitting_function = lambda x: np.random.binomial(x, p=0.5),\n",
    ")\n",
    "ground_truth_tree = bd_sim.simulate_tree()"
   ]
  },
  {
   "cell_type": "markdown",
   "metadata": {},
   "source": [
    "Let's stare manually at a few ecDNA CNs. One weird thing I'm noticing is that there isn't conservation of copy number right now. This could be b/c of death. so I'll re-run with infinite time to death.\n",
    "I tried this and it still doesn't conserve CN, which is weird. \n",
    "\n",
    "I figured out why it doesn't conserve CN. It's because there's a weird passage of cell 0 to cell 1 before division is allowed to start occurring. Let's figure out where/why this happens and stop it. \n",
    "\n",
    "It happens in simulate_tree (inherited from BirthDeathSimulator), because in order to sample the first waiting time, we call sample_lineage_event. I fixed this in a really hack-y way (see ecDNABirthDeathSimulator.py, search for \"TO DO\" to see what I mean). No wait, this fix doesn't work; it seems liek the bypass is *always* being triggered. Let's stare at that and try to see why.\n",
    "\n",
    "I didn't figure out why the other condition in sample_lineage_event didn't work, but this one (checking whether we're at time 0) does. So i'll go with it for now.\n",
    "\n",
    "I manually checked that the ecDNA CN are doubling every generation (for two generations).\n",
    "\n",
    "Where is the rng getting seeded? B/c it seems like it is, and in a setting where the long-time dynamics of the simulations depend heavily on the first division, it's quite important to be aware of seeding!"
   ]
  },
  {
   "cell_type": "code",
   "execution_count": 11,
   "metadata": {},
   "outputs": [
    {
     "data": {
      "text/plain": [
       "{'graph': {},\n",
       " '_node': {'0': {'birth_scale': 0.5,\n",
       "   'time': 0,\n",
       "   'ecdna_array': array([7, 3, 5]),\n",
       "   'character_states': []},\n",
       "  '1': {'birth_scale': 0.5,\n",
       "   'time': 0.17454120776779053,\n",
       "   'ecdna_array': array([7, 3, 5]),\n",
       "   'character_states': []},\n",
       "  '2': {'birth_scale': 0.5426436139245218,\n",
       "   'time': 0.28084136317063757,\n",
       "   'ecdna_array': array([8, 3, 2]),\n",
       "   'character_states': []},\n",
       "  '3': {'birth_scale': 0.5,\n",
       "   'time': 0.3959795486358011,\n",
       "   'ecdna_array': array([6, 3, 8]),\n",
       "   'character_states': []},\n",
       "  '4': {'birth_scale': 0.5426436139245218,\n",
       "   'time': 0.3144434495424206,\n",
       "   'ecdna_array': array([10,  1,  2]),\n",
       "   'character_states': []},\n",
       "  '5': {'birth_scale': 0.5426436139245218,\n",
       "   'time': 0.3959795486358011,\n",
       "   'ecdna_array': array([6, 5, 2]),\n",
       "   'character_states': []},\n",
       "  '6': {'birth_scale': 0.5426436139245218,\n",
       "   'time': 0.3959795486358011,\n",
       "   'ecdna_array': array([9, 1, 2]),\n",
       "   'character_states': []},\n",
       "  '7': {'birth_scale': 0.5426436139245218,\n",
       "   'time': 0.3959795486358011,\n",
       "   'ecdna_array': array([11,  1,  2]),\n",
       "   'character_states': []}},\n",
       " '_adj': {'0': {'1': {'length': 0.17454120776779053}},\n",
       "  '1': {'2': {'length': 0.10630015540284704},\n",
       "   '3': {'length': 0.22143834086801056}},\n",
       "  '2': {'4': {'length': 0.033602086371783024},\n",
       "   '5': {'length': 0.11513818546516352}},\n",
       "  '3': {},\n",
       "  '4': {'6': {'length': 0.0815360990933805},\n",
       "   '7': {'length': 0.0815360990933805}},\n",
       "  '5': {},\n",
       "  '6': {},\n",
       "  '7': {}},\n",
       " '_succ': {'0': {'1': {'length': 0.17454120776779053}},\n",
       "  '1': {'2': {'length': 0.10630015540284704},\n",
       "   '3': {'length': 0.22143834086801056}},\n",
       "  '2': {'4': {'length': 0.033602086371783024},\n",
       "   '5': {'length': 0.11513818546516352}},\n",
       "  '3': {},\n",
       "  '4': {'6': {'length': 0.0815360990933805},\n",
       "   '7': {'length': 0.0815360990933805}},\n",
       "  '5': {},\n",
       "  '6': {},\n",
       "  '7': {}},\n",
       " '_pred': {'0': {},\n",
       "  '1': {'0': {'length': 0.17454120776779053}},\n",
       "  '2': {'1': {'length': 0.10630015540284704}},\n",
       "  '3': {'1': {'length': 0.22143834086801056}},\n",
       "  '4': {'2': {'length': 0.033602086371783024}},\n",
       "  '5': {'2': {'length': 0.11513818546516352}},\n",
       "  '6': {'4': {'length': 0.0815360990933805}},\n",
       "  '7': {'4': {'length': 0.0815360990933805}}},\n",
       " 'nodes': NodeView(('0', '1', '2', '3', '4', '5', '6', '7')),\n",
       " 'succ': AdjacencyView({'0': {'1': {'length': 0.17454120776779053}}, '1': {'2': {'length': 0.10630015540284704}, '3': {'length': 0.22143834086801056}}, '2': {'4': {'length': 0.033602086371783024}, '5': {'length': 0.11513818546516352}}, '3': {}, '4': {'6': {'length': 0.0815360990933805}, '7': {'length': 0.0815360990933805}}, '5': {}, '6': {}, '7': {}}),\n",
       " 'edges': OutEdgeView([('0', '1'), ('1', '2'), ('1', '3'), ('2', '4'), ('2', '5'), ('4', '6'), ('4', '7')]),\n",
       " 'adj': AdjacencyView({'0': {'1': {'length': 0.17454120776779053}}, '1': {'2': {'length': 0.10630015540284704}, '3': {'length': 0.22143834086801056}}, '2': {'4': {'length': 0.033602086371783024}, '5': {'length': 0.11513818546516352}}, '3': {}, '4': {'6': {'length': 0.0815360990933805}, '7': {'length': 0.0815360990933805}}, '5': {}, '6': {}, '7': {}}),\n",
       " 'in_degree': InDegreeView({'0': 0, '1': 1, '2': 1, '3': 1, '4': 1, '5': 1, '6': 1, '7': 1}),\n",
       " 'out_degree': OutDegreeView({'0': 1, '1': 2, '2': 2, '3': 0, '4': 2, '5': 0, '6': 0, '7': 0})}"
      ]
     },
     "execution_count": 11,
     "metadata": {},
     "output_type": "execute_result"
    }
   ],
   "source": [
    "# ground_truth_tree.__dict__  \n",
    "ground_truth_tree._CassiopeiaTree__network.__dict__"
   ]
  },
  {
   "cell_type": "markdown",
   "metadata": {},
   "source": [
    "We canNOT upload and export trees to iTOL (iTOL is no longer free). Instead, we can use the local visualization library. Learn more in local_plotting.ipynb. "
   ]
  },
  {
   "cell_type": "code",
   "execution_count": 10,
   "metadata": {},
   "outputs": [
    {
     "data": {
      "text/plain": [
       "(<Figure size 504x504 with 1 Axes>, <AxesSubplot:>)"
      ]
     },
     "execution_count": 10,
     "metadata": {},
     "output_type": "execute_result"
    },
    {
     "data": {
      "image/png": "[encoded data removed]",
      "text/plain": [
       "<Figure size 504x504 with 1 Axes>"
      ]
     },
     "metadata": {
      "needs_background": "light"
     },
     "output_type": "display_data"
    }
   ],
   "source": [
    "cas.pl.plot_matplotlib(ground_truth_tree, add_root=True)"
   ]
  },
  {
   "cell_type": "markdown",
   "metadata": {},
   "source": [
    "Now, let's try to annotate the tree with the copy numbers."
   ]
  },
  {
   "cell_type": "code",
   "execution_count": null,
   "metadata": {},
   "outputs": [],
   "source": []
  },
  {
   "cell_type": "markdown",
   "metadata": {},
   "source": [
    "## Overlay Lineage Tracing Data\n",
    "\n",
    "We can then use our Cas9-based lineage tracing data simulator to overlay data. Here, this is a very flexible Cas9-data generator in which we can specify the dependence structure between characters (i.e. the cassettes that link togehter cut sites), the mutation rate, silencing rates, and state distributions. This function derives from the DataSimulator class & implements the `overlay_data` function which operates on a `CassiopeiaTree`, such as the one you simulated above. "
   ]
  },
  {
   "cell_type": "code",
   "execution_count": null,
   "metadata": {},
   "outputs": [],
   "source": [
    "np.random.seed(seed=None)\n",
    "lt_sim = cas.sim.Cas9LineageTracingDataSimulator(\n",
    "    number_of_cassettes = 40,\n",
    "    size_of_cassette = 1,\n",
    "    mutation_rate = 0.1,\n",
    "    state_generating_distribution = lambda: np.random.exponential(1e-5),\n",
    "    number_of_states = 50,\n",
    "    state_priors = None,\n",
    "    heritable_silencing_rate = 9e-4,\n",
    "    stochastic_silencing_rate = 0.1,\n",
    "    heritable_missing_data_state = -1,\n",
    "    stochastic_missing_data_state = -1,\n",
    ")\n",
    "lt_sim.overlay_data(ground_truth_tree)"
   ]
  },
  {
   "cell_type": "markdown",
   "metadata": {},
   "source": [
    "We can get a feel for the character matrix and the complexity of the data here by extracting the simulated data."
   ]
  },
  {
   "cell_type": "code",
   "execution_count": null,
   "metadata": {},
   "outputs": [],
   "source": [
    "## inspect character matrix\n",
    "\n",
    "character_matrix = ground_truth_tree.character_matrix\n",
    "\n",
    "print(f\"We simulated {character_matrix.shape[1]} characters across {character_matrix.shape[0]} cells.\")\n",
    "\n",
    "# plot the number of unique states per character\n",
    "character_matrix.nunique(axis=0).plot(kind='bar')\n",
    "plt.xlabel(\"Character\")\n",
    "plt.ylabel(\"Number of unique states \")\n",
    "plt.show()\n",
    "\n",
    "missing_data_per_character = character_matrix.apply(lambda x: len(x[x == -1]) / len(x), axis=0)\n",
    "missing_data_per_character.plot(kind='bar')\n",
    "plt.xlabel(\"Character\")\n",
    "plt.ylabel(\"Percentage of missing states\")\n",
    "plt.show()"
   ]
  },
  {
   "cell_type": "markdown",
   "metadata": {},
   "source": [
    "## Rebuild trees\n",
    "\n",
    "Cassiopeia has implemented several CassiopeiaSolvers for reconstructing trees. Each of these can take in several class-specific parameters and at a minimum implements the `solve` routine which operates on a CassiopeiaTree. \n",
    "\n",
    "The full list of solvers can be found [here](https://cassiopeia-lineage.readthedocs.io/en/latest/api/solver.html). For a full tutorial on tree reconstruction, refer to the [Tree Reconstruction notebook](https://github.com/YosefLab/Cassiopeia/blob/latest/notebooks/reconstruct.ipynb).\n",
    "\n",
    "Here we use the VanillaGreedySolver, which was described in the [Cassiopeia paper published in 2020](https://genomebiology.biomedcentral.com/articles/10.1186/s13059-020-02000-8)."
   ]
  },
  {
   "cell_type": "code",
   "execution_count": null,
   "metadata": {},
   "outputs": [],
   "source": [
    "reconstructed_tree = cas.data.CassiopeiaTree(character_matrix = ground_truth_tree.character_matrix, missing_state_indicator = -1)\n",
    "\n",
    "greedy_solver = cas.solver.VanillaGreedySolver()\n",
    "greedy_solver.solve(reconstructed_tree)\n"
   ]
  },
  {
   "cell_type": "code",
   "execution_count": null,
   "metadata": {},
   "outputs": [],
   "source": [
    "cas.pl.plot_matplotlib(reconstructed_tree, add_root=True)"
   ]
  },
  {
   "cell_type": "markdown",
   "metadata": {},
   "source": [
    "## Critique\n",
    "\n",
    "Our `critique` library is for testing the similarity between CassiopeiaTrees. The most pertinent use case is when comparing the reconstruction accuracy. We have two metrics implemented - a triplets correct measure, and the Robinson-Foulds metric."
   ]
  },
  {
   "cell_type": "code",
   "execution_count": null,
   "metadata": {},
   "outputs": [],
   "source": [
    "reconstructed_tree.collapse_mutationless_edges(infer_ancestral_characters = True)\n",
    "\n",
    "rf, rf_max = cas.critique.compare.robinson_foulds(ground_truth_tree, reconstructed_tree)\n",
    "\n",
    "print(f\"Normalized RF: {rf / rf_max}\")"
   ]
  },
  {
   "cell_type": "code",
   "execution_count": null,
   "metadata": {},
   "outputs": [],
   "source": [
    "triplets = cas.critique.compare.triplets_correct(ground_truth_tree, reconstructed_tree, number_of_trials = 500)"
   ]
  },
  {
   "cell_type": "markdown",
   "metadata": {},
   "source": [
    "## Building benchmarking pipelines\n",
    "\n",
    "We can link all of these steps together to benchmark the performance of several algorithms.\n",
    "\n",
    "The briefest of benchmarking pipelines would consist of:\n",
    "\n",
    "- Simulating a ground truth phylogeny\n",
    "- Overlaying data onto this phylogeny\n",
    "- Inferring the phylogeny with potentially many algorithms\n",
    "- Assessing performance\n",
    "\n",
    "Here we show a very simple benchmarking pipeline:"
   ]
  },
  {
   "cell_type": "code",
   "execution_count": null,
   "metadata": {},
   "outputs": [],
   "source": [
    "\n",
    "algorithms = {\"Vanilla Greedy\": cas.solver.VanillaGreedySolver(),\n",
    "              'UPGMA': cas.solver.UPGMASolver(dissimilarity_function=cas.solver.dissimilarity.weighted_hamming_distance),\n",
    "              'NeighborJoining': cas.solver.NeighborJoiningSolver(dissimilarity_function=cas.solver.dissimilarity.weighted_hamming_distance, add_root=True)\n",
    "             }\n",
    "\n",
    "iterations = 10\n",
    "\n",
    "algorithm_to_performance_triplets = defaultdict(list)\n",
    "algorithm_to_performance_rf = defaultdict(list)\n",
    "for _ in tqdm(range(iterations)):\n",
    "    \n",
    "    ground_truth_tree = bd_sim.simulate_tree()\n",
    "    \n",
    "    np.random.seed(None)\n",
    "    lt_sim.overlay_data(ground_truth_tree)\n",
    "    \n",
    "    for algorithm_name in tqdm(algorithms.keys()):\n",
    "        \n",
    "        algorithm = algorithms[algorithm_name]\n",
    "        \n",
    "        reconstructed_tree = cas.data.CassiopeiaTree(character_matrix = ground_truth_tree.character_matrix, missing_state_indicator = -1)\n",
    "        algorithm.solve(reconstructed_tree)\n",
    "        \n",
    "        # ground_truth_tree.collapse_mutationless_edges(infer_ancestral_characters = False)\n",
    "        reconstructed_tree.collapse_mutationless_edges(infer_ancestral_characters = True)\n",
    "\n",
    "        rf, rf_max = cas.critique.compare.robinson_foulds(ground_truth_tree, reconstructed_tree)\n",
    "        \n",
    "        triplets = cas.critique.compare.triplets_correct(ground_truth_tree, reconstructed_tree, number_of_trials=500)\n",
    "        algorithm_to_performance_triplets[algorithm_name].append(np.mean(list(triplets[0].values())))\n",
    "        \n",
    "        algorithm_to_performance_rf[algorithm_name].append(rf / rf_max)\n",
    "\n",
    "        \n",
    "        \n",
    "        "
   ]
  },
  {
   "cell_type": "markdown",
   "metadata": {},
   "source": [
    "We can easily visualize results after reformatting the dictionaries of performances"
   ]
  },
  {
   "cell_type": "code",
   "execution_count": null,
   "metadata": {},
   "outputs": [],
   "source": [
    "algorithm_to_performance_triplets_df = pd.DataFrame(columns = ['Algorithm', 'Triplets'])\n",
    "for algorithm in algorithm_to_performance_triplets:\n",
    "    \n",
    "    entries = algorithm_to_performance_triplets[algorithm]\n",
    "    new_df = pd.DataFrame([algorithm]*len(entries), columns = ['Algorithm'])\n",
    "    new_df['Triplets'] = entries\n",
    "    \n",
    "    algorithm_to_performance_triplets_df = pd.concat([algorithm_to_performance_triplets_df, new_df])\n",
    "    \n",
    "algorithm_to_performance_rf_df = pd.DataFrame(columns = ['Algorithm', 'RF'])\n",
    "for algorithm in algorithm_to_performance_rf:\n",
    "    \n",
    "    entries = algorithm_to_performance_rf[algorithm]\n",
    "    new_df = pd.DataFrame([algorithm]*len(entries), columns = ['Algorithm'])\n",
    "    new_df['RF'] = entries\n",
    "    \n",
    "    algorithm_to_performance_rf_df = pd.concat([algorithm_to_performance_rf_df, new_df])"
   ]
  },
  {
   "cell_type": "code",
   "execution_count": null,
   "metadata": {},
   "outputs": [],
   "source": [
    "sns.boxplot(data=algorithm_to_performance_triplets_df, x = 'Algorithm', y = 'Triplets')\n",
    "plt.show()\n",
    "\n",
    "sns.boxplot(data=algorithm_to_performance_rf_df, x = 'Algorithm', y = 'RF')\n",
    "plt.show()"
   ]
  }
 ],
 "metadata": {
  "kernelspec": {
   "display_name": "Python 3 (ipykernel)",
   "language": "python",
   "name": "python3"
  },
  "language_info": {
   "codemirror_mode": {
    "name": "ipython",
    "version": 3
   },
   "file_extension": ".py",
   "mimetype": "text/x-python",
   "name": "python",
   "nbconvert_exporter": "python",
   "pygments_lexer": "ipython3",
   "version": "3.9.13"
  },
  "vscode": {
   "interpreter": {
    "hash": "7281e31e459af3472f32ee3e42bf55bc232e963b8420c818e7fe7d635207fd6b"
   }
  }
 },
 "nbformat": 4,
 "nbformat_minor": 4
}
