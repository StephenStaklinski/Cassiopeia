{
 "cells": [
  {
   "cell_type": "markdown",
   "metadata": {},
   "source": [
    "# Cassiopeia Benchmarking Pipeline\n",
    "\n",
    "Here, we simulate trees with ecDNA. Based on benchmark.ipynb \n",
    "\n",
    "\"You can install Cassiopeia by following the guide [here](https://cassiopeia-lineage.readthedocs.io/en/latest/installation.html).\"\n",
    "\n",
    "\"All of our documentation is hosted [here](https://cassiopeia-lineage.readthedocs.io/en/latest/).\""
   ]
  },
  {
   "cell_type": "code",
   "execution_count": 2,
   "metadata": {},
   "outputs": [],
   "source": [
    "import cProfile\n",
    "from collections import defaultdict\n",
    "import copy\n",
    "import matplotlib.pyplot as plt\n",
    "import numpy as np\n",
    "import pandas as pd\n",
    "import seaborn as sns\n",
    "import time\n",
    "from tqdm.auto import tqdm\n",
    "\n",
    "import cassiopeia as cas\n",
    "from cassiopeia.solver import missing_data_methods"
   ]
  },
  {
   "cell_type": "code",
   "execution_count": 3,
   "metadata": {},
   "outputs": [],
   "source": [
    "from IPython.display import Image\n"
   ]
  },
  {
   "cell_type": "markdown",
   "metadata": {},
   "source": [
    "Here's where I recall python syntax / test code snippets"
   ]
  },
  {
   "cell_type": "code",
   "execution_count": null,
   "metadata": {},
   "outputs": [],
   "source": [
    "np.inf"
   ]
  },
  {
   "cell_type": "markdown",
   "metadata": {},
   "source": [
    "## Tree Simulation\n",
    "\n",
    "ecDNABirthDeathSimulator is based on BirthDeathFitnesSimulator, which is documented [here](https://cassiopeia-lineage.readthedocs.io/en/latest/api/reference/cassiopeia.sim.BirthDeathFitnessSimulator.html). "
   ]
  },
  {
   "cell_type": "code",
   "execution_count": 4,
   "metadata": {},
   "outputs": [
    {
     "name": "stdout",
     "output_type": "stream",
     "text": [
      "current_lineages is empty\n",
      "\n",
      "\n"
     ]
    }
   ],
   "source": [
    "bd_sim = cas.sim.ecDNABirthDeathSimulator(\n",
    "    birth_waiting_distribution = lambda scale: np.random.exponential(scale),\n",
    "    initial_birth_scale = 0.5,\n",
    "    death_waiting_distribution = lambda: np.inf, # lambda: np.random.exponential(1.5),\n",
    "    # mutation_distribution = lambda: 1 if np.random.uniform() < 0.5 else 0,\n",
    "    # fitness_distribution = lambda: np.random.normal(0, .5),\n",
    "    # fitness_base = 1.3,\n",
    "    num_extant = 4,\n",
    "    random_seed=17, \n",
    "    initial_copy_number = np.array([7,3,5]),\n",
    "    splitting_function = lambda x: np.random.binomial(x, p=0.5),\n",
    ")\n",
    "ground_truth_tree = bd_sim.simulate_tree()"
   ]
  },
  {
   "cell_type": "markdown",
   "metadata": {},
   "source": [
    "Let's stare manually at a few ecDNA CNs. One weird thing I'm noticing is that there isn't conservation of copy number right now. This could be b/c of death. so I'll re-run with infinite time to death.\n",
    "I tried this and it still doesn't conserve CN, which is weird. \n",
    "\n",
    "I figured out why it doesn't conserve CN. It's because there's a weird passage of cell 0 to cell 1 before division is allowed to start occurring. Let's figure out where/why this happens and stop it. \n",
    "\n",
    "It happens in simulate_tree (inherited from BirthDeathSimulator), because in order to sample the first waiting time, we call sample_lineage_event. I fixed this in a really hack-y way (see ecDNABirthDeathSimulator.py, search for \"TO DO\" to see what I mean). No wait, this fix doesn't work; it seems liek the bypass is *always* being triggered. Let's stare at that and try to see why.\n",
    "\n",
    "I didn't figure out why the other condition in sample_lineage_event didn't work, but this one (checking whether we're at time 0) does. So i'll go with it for now.\n",
    "\n",
    "I manually checked that the ecDNA CN are doubling every generation (for two generations).\n"
   ]
  },
  {
   "cell_type": "code",
   "execution_count": 5,
   "metadata": {},
   "outputs": [
    {
     "data": {
      "text/plain": [
       "{'graph': {},\n",
       " '_node': {'0': {'birth_scale': 0.5,\n",
       "   'time': 0,\n",
       "   'ecdna_array': array([7, 3, 5]),\n",
       "   'character_states': []},\n",
       "  '1': {'birth_scale': 0.5,\n",
       "   'time': 0.17454120776779053,\n",
       "   'ecdna_array': array([7, 3, 5]),\n",
       "   'character_states': []},\n",
       "  '2': {'birth_scale': 0.5,\n",
       "   'time': 0.5526770979578748,\n",
       "   'ecdna_array': array([5, 1, 6]),\n",
       "   'character_states': []},\n",
       "  '3': {'birth_scale': 0.5,\n",
       "   'time': 0.7085830237491872,\n",
       "   'ecdna_array': array([9, 5, 4]),\n",
       "   'character_states': []},\n",
       "  '4': {'birth_scale': 0.5,\n",
       "   'time': 0.7395444922982826,\n",
       "   'ecdna_array': array([5, 0, 5]),\n",
       "   'character_states': []},\n",
       "  '5': {'birth_scale': 0.5,\n",
       "   'time': 0.7395444922982826,\n",
       "   'ecdna_array': array([5, 2, 7]),\n",
       "   'character_states': []},\n",
       "  '6': {'birth_scale': 0.5,\n",
       "   'time': 0.7395444922982826,\n",
       "   'ecdna_array': array([11,  7,  2]),\n",
       "   'character_states': []},\n",
       "  '7': {'birth_scale': 0.5,\n",
       "   'time': 0.7395444922982826,\n",
       "   'ecdna_array': array([7, 3, 6]),\n",
       "   'character_states': []}},\n",
       " '_adj': {'0': {'1': {'length': 0.17454120776779053}},\n",
       "  '1': {'2': {'length': 0.37813589019008426},\n",
       "   '3': {'length': 0.5340418159813967}},\n",
       "  '2': {'4': {'length': 0.18686739434040778},\n",
       "   '5': {'length': 0.18686739434040778}},\n",
       "  '3': {'6': {'length': 0.030961468549095317},\n",
       "   '7': {'length': 0.030961468549095317}},\n",
       "  '4': {},\n",
       "  '5': {},\n",
       "  '6': {},\n",
       "  '7': {}},\n",
       " '_succ': {'0': {'1': {'length': 0.17454120776779053}},\n",
       "  '1': {'2': {'length': 0.37813589019008426},\n",
       "   '3': {'length': 0.5340418159813967}},\n",
       "  '2': {'4': {'length': 0.18686739434040778},\n",
       "   '5': {'length': 0.18686739434040778}},\n",
       "  '3': {'6': {'length': 0.030961468549095317},\n",
       "   '7': {'length': 0.030961468549095317}},\n",
       "  '4': {},\n",
       "  '5': {},\n",
       "  '6': {},\n",
       "  '7': {}},\n",
       " '_pred': {'0': {},\n",
       "  '1': {'0': {'length': 0.17454120776779053}},\n",
       "  '2': {'1': {'length': 0.37813589019008426}},\n",
       "  '3': {'1': {'length': 0.5340418159813967}},\n",
       "  '4': {'2': {'length': 0.18686739434040778}},\n",
       "  '5': {'2': {'length': 0.18686739434040778}},\n",
       "  '6': {'3': {'length': 0.030961468549095317}},\n",
       "  '7': {'3': {'length': 0.030961468549095317}}},\n",
       " 'nodes': NodeView(('0', '1', '2', '3', '4', '5', '6', '7')),\n",
       " 'succ': AdjacencyView({'0': {'1': {'length': 0.17454120776779053}}, '1': {'2': {'length': 0.37813589019008426}, '3': {'length': 0.5340418159813967}}, '2': {'4': {'length': 0.18686739434040778}, '5': {'length': 0.18686739434040778}}, '3': {'6': {'length': 0.030961468549095317}, '7': {'length': 0.030961468549095317}}, '4': {}, '5': {}, '6': {}, '7': {}}),\n",
       " 'edges': OutEdgeView([('0', '1'), ('1', '2'), ('1', '3'), ('2', '4'), ('2', '5'), ('3', '6'), ('3', '7')]),\n",
       " 'adj': AdjacencyView({'0': {'1': {'length': 0.17454120776779053}}, '1': {'2': {'length': 0.37813589019008426}, '3': {'length': 0.5340418159813967}}, '2': {'4': {'length': 0.18686739434040778}, '5': {'length': 0.18686739434040778}}, '3': {'6': {'length': 0.030961468549095317}, '7': {'length': 0.030961468549095317}}, '4': {}, '5': {}, '6': {}, '7': {}}),\n",
       " 'in_degree': InDegreeView({'0': 0, '1': 1, '2': 1, '3': 1, '4': 1, '5': 1, '6': 1, '7': 1}),\n",
       " 'out_degree': OutDegreeView({'0': 1, '1': 2, '2': 2, '3': 2, '4': 0, '5': 0, '6': 0, '7': 0})}"
      ]
     },
     "execution_count": 5,
     "metadata": {},
     "output_type": "execute_result"
    }
   ],
   "source": [
    "# ground_truth_tree.__dict__  \n",
    "ground_truth_tree._CassiopeiaTree__network.__dict__"
   ]
  },
  {
   "cell_type": "markdown",
   "metadata": {},
   "source": [
    "We canNOT upload and export trees to iTOL (iTOL is no longer free). Instead, we can use the local visualization library. Learn more in local_plotting.ipynb. "
   ]
  },
  {
   "cell_type": "code",
   "execution_count": 6,
   "metadata": {},
   "outputs": [
    {
     "data": {
      "text/plain": [
       "(<Figure size 504x504 with 1 Axes>, <AxesSubplot:>)"
      ]
     },
     "execution_count": 6,
     "metadata": {},
     "output_type": "execute_result"
    },
    {
     "data": {
      "image/png": "[encoded data removed]",
      "text/plain": [
       "<Figure size 504x504 with 1 Axes>"
      ]
     },
     "metadata": {
      "needs_background": "light"
     },
     "output_type": "display_data"
    }
   ],
   "source": [
    "cas.pl.plot_matplotlib(ground_truth_tree, add_root=True)"
   ]
  },
  {
   "cell_type": "markdown",
   "metadata": {},
   "source": [
    "Now, let's try to annotate the tree with the copy numbers."
   ]
  },
  {
   "cell_type": "code",
   "execution_count": null,
   "metadata": {},
   "outputs": [],
   "source": []
  },
  {
   "cell_type": "markdown",
   "metadata": {},
   "source": [
    "## Overlay Lineage Tracing Data\n",
    "\n",
    "We can then use our Cas9-based lineage tracing data simulator to overlay data. Here, this is a very flexible Cas9-data generator in which we can specify the dependence structure between characters (i.e. the cassettes that link togehter cut sites), the mutation rate, silencing rates, and state distributions. This function derives from the DataSimulator class & implements the `overlay_data` function which operates on a `CassiopeiaTree`, such as the one you simulated above. "
   ]
  },
  {
   "cell_type": "code",
   "execution_count": 7,
   "metadata": {},
   "outputs": [],
   "source": [
    "np.random.seed(seed=None)\n",
    "lt_sim = cas.sim.Cas9LineageTracingDataSimulator(\n",
    "    number_of_cassettes = 40,\n",
    "    size_of_cassette = 1,\n",
    "    mutation_rate = 0.1,\n",
    "    state_generating_distribution = lambda: np.random.exponential(1e-5),\n",
    "    number_of_states = 50,\n",
    "    state_priors = None,\n",
    "    heritable_silencing_rate = 9e-4,\n",
    "    stochastic_silencing_rate = 0.1,\n",
    "    heritable_missing_data_state = -1,\n",
    "    stochastic_missing_data_state = -1,\n",
    ")\n",
    "lt_sim.overlay_data(ground_truth_tree)"
   ]
  },
  {
   "cell_type": "markdown",
   "metadata": {},
   "source": [
    "We can get a feel for the character matrix and the complexity of the data here by extracting the simulated data."
   ]
  },
  {
   "cell_type": "code",
   "execution_count": 8,
   "metadata": {},
   "outputs": [
    {
     "name": "stdout",
     "output_type": "stream",
     "text": [
      "We simulated 40 characters across 4 cells.\n"
     ]
    },
    {
     "data": {
      "image/png": "[encoded data removed]",
      "text/plain": [
       "<Figure size 432x288 with 1 Axes>"
      ]
     },
     "metadata": {
      "needs_background": "light"
     },
     "output_type": "display_data"
    },
    {
     "data": {
      "image/png": "[encoded data removed]",
      "text/plain": [
       "<Figure size 432x288 with 1 Axes>"
      ]
     },
     "metadata": {
      "needs_background": "light"
     },
     "output_type": "display_data"
    }
   ],
   "source": [
    "## inspect character matrix\n",
    "\n",
    "character_matrix = ground_truth_tree.character_matrix\n",
    "\n",
    "print(f\"We simulated {character_matrix.shape[1]} characters across {character_matrix.shape[0]} cells.\")\n",
    "\n",
    "# plot the number of unique states per character\n",
    "character_matrix.nunique(axis=0).plot(kind='bar')\n",
    "plt.xlabel(\"Character\")\n",
    "plt.ylabel(\"Number of unique states \")\n",
    "plt.show()\n",
    "\n",
    "missing_data_per_character = character_matrix.apply(lambda x: len(x[x == -1]) / len(x), axis=0)\n",
    "missing_data_per_character.plot(kind='bar')\n",
    "plt.xlabel(\"Character\")\n",
    "plt.ylabel(\"Percentage of missing states\")\n",
    "plt.show()"
   ]
  },
  {
   "cell_type": "markdown",
   "metadata": {},
   "source": [
    "## Rebuild trees\n",
    "\n",
    "Cassiopeia has implemented several CassiopeiaSolvers for reconstructing trees. Each of these can take in several class-specific parameters and at a minimum implements the `solve` routine which operates on a CassiopeiaTree. \n",
    "\n",
    "The full list of solvers can be found [here](https://cassiopeia-lineage.readthedocs.io/en/latest/api/solver.html). For a full tutorial on tree reconstruction, refer to the [Tree Reconstruction notebook](https://github.com/YosefLab/Cassiopeia/blob/latest/notebooks/reconstruct.ipynb).\n",
    "\n",
    "Here we use the VanillaGreedySolver, which was described in the [Cassiopeia paper published in 2020](https://genomebiology.biomedcentral.com/articles/10.1186/s13059-020-02000-8)."
   ]
  },
  {
   "cell_type": "code",
   "execution_count": 9,
   "metadata": {},
   "outputs": [],
   "source": [
    "reconstructed_tree = cas.data.CassiopeiaTree(character_matrix = ground_truth_tree.character_matrix, missing_state_indicator = -1)\n",
    "\n",
    "greedy_solver = cas.solver.VanillaGreedySolver()\n",
    "greedy_solver.solve(reconstructed_tree)\n"
   ]
  },
  {
   "cell_type": "code",
   "execution_count": 10,
   "metadata": {},
   "outputs": [
    {
     "data": {
      "text/plain": [
       "(<Figure size 504x504 with 1 Axes>, <AxesSubplot:>)"
      ]
     },
     "execution_count": 10,
     "metadata": {},
     "output_type": "execute_result"
    },
    {
     "data": {
      "image/png": "[encoded data removed]",
      "text/plain": [
       "<Figure size 504x504 with 1 Axes>"
      ]
     },
     "metadata": {
      "needs_background": "light"
     },
     "output_type": "display_data"
    }
   ],
   "source": [
    "cas.pl.plot_matplotlib(reconstructed_tree, add_root=True)"
   ]
  },
  {
   "cell_type": "markdown",
   "metadata": {},
   "source": [
    "## Critique\n",
    "\n",
    "Our `critique` library is for testing the similarity between CassiopeiaTrees. The most pertinent use case is when comparing the reconstruction accuracy. We have two metrics implemented - a triplets correct measure, and the Robinson-Foulds metric."
   ]
  },
  {
   "cell_type": "code",
   "execution_count": 11,
   "metadata": {},
   "outputs": [
    {
     "name": "stdout",
     "output_type": "stream",
     "text": [
      "Normalized RF: 0.0\n"
     ]
    }
   ],
   "source": [
    "reconstructed_tree.collapse_mutationless_edges(infer_ancestral_characters = True)\n",
    "\n",
    "rf, rf_max = cas.critique.compare.robinson_foulds(ground_truth_tree, reconstructed_tree)\n",
    "\n",
    "print(f\"Normalized RF: {rf / rf_max}\")"
   ]
  },
  {
   "cell_type": "code",
   "execution_count": 13,
   "metadata": {},
   "outputs": [
    {
     "name": "stdout",
     "output_type": "stream",
     "text": [
      "(defaultdict(<class 'int'>, {0: 1.0}), defaultdict(<class 'int'>, {0: 1.0}), defaultdict(<class 'int'>, {0: 1.0}), defaultdict(<class 'int'>, {0: 0.0}))\n"
     ]
    }
   ],
   "source": [
    "triplets = cas.critique.compare.triplets_correct(ground_truth_tree, reconstructed_tree, number_of_trials = 500)"
   ]
  },
  {
   "cell_type": "markdown",
   "metadata": {},
   "source": [
    "## Building benchmarking pipelines\n",
    "\n",
    "We can link all of these steps together to benchmark the performance of several algorithms.\n",
    "\n",
    "The briefest of benchmarking pipelines would consist of:\n",
    "\n",
    "- Simulating a ground truth phylogeny\n",
    "- Overlaying data onto this phylogeny\n",
    "- Inferring the phylogeny with potentially many algorithms\n",
    "- Assessing performance\n",
    "\n",
    "Here we show a very simple benchmarking pipeline:"
   ]
  },
  {
   "cell_type": "code",
   "execution_count": 14,
   "metadata": {},
   "outputs": [
    {
     "data": {
      "application/vnd.jupyter.widget-view+json": {
       "model_id": "ba74d0b9517b4b329762e645306ef5c7",
       "version_major": 2,
       "version_minor": 0
      },
      "text/plain": [
       "  0%|          | 0/10 [00:00<?, ?it/s]"
      ]
     },
     "metadata": {},
     "output_type": "display_data"
    },
    {
     "name": "stdout",
     "output_type": "stream",
     "text": [
      "current_lineages is empty\n",
      "\n",
      "\n"
     ]
    },
    {
     "data": {
      "application/vnd.jupyter.widget-view+json": {
       "model_id": "39357d7ada3345e2a6c27a9994135971",
       "version_major": 2,
       "version_minor": 0
      },
      "text/plain": [
       "  0%|          | 0/3 [00:00<?, ?it/s]"
      ]
     },
     "metadata": {},
     "output_type": "display_data"
    },
    {
     "name": "stdout",
     "output_type": "stream",
     "text": [
      "current_lineages is empty\n",
      "\n",
      "\n"
     ]
    },
    {
     "data": {
      "application/vnd.jupyter.widget-view+json": {
       "model_id": "57a8e3bf13f24b79ba3eb67a4df3e78e",
       "version_major": 2,
       "version_minor": 0
      },
      "text/plain": [
       "  0%|          | 0/3 [00:00<?, ?it/s]"
      ]
     },
     "metadata": {},
     "output_type": "display_data"
    },
    {
     "name": "stdout",
     "output_type": "stream",
     "text": [
      "current_lineages is empty\n",
      "\n",
      "\n"
     ]
    },
    {
     "data": {
      "application/vnd.jupyter.widget-view+json": {
       "model_id": "81320279a2e24a99bb36d57bb16c116b",
       "version_major": 2,
       "version_minor": 0
      },
      "text/plain": [
       "  0%|          | 0/3 [00:00<?, ?it/s]"
      ]
     },
     "metadata": {},
     "output_type": "display_data"
    },
    {
     "name": "stdout",
     "output_type": "stream",
     "text": [
      "current_lineages is empty\n",
      "\n",
      "\n"
     ]
    },
    {
     "data": {
      "application/vnd.jupyter.widget-view+json": {
       "model_id": "136210dc16f2452dbbd9ff01fea1bbba",
       "version_major": 2,
       "version_minor": 0
      },
      "text/plain": [
       "  0%|          | 0/3 [00:00<?, ?it/s]"
      ]
     },
     "metadata": {},
     "output_type": "display_data"
    },
    {
     "name": "stdout",
     "output_type": "stream",
     "text": [
      "current_lineages is empty\n",
      "\n",
      "\n"
     ]
    },
    {
     "data": {
      "application/vnd.jupyter.widget-view+json": {
       "model_id": "5a609afadbe14ba1a31cde67580ab2d0",
       "version_major": 2,
       "version_minor": 0
      },
      "text/plain": [
       "  0%|          | 0/3 [00:00<?, ?it/s]"
      ]
     },
     "metadata": {},
     "output_type": "display_data"
    },
    {
     "name": "stdout",
     "output_type": "stream",
     "text": [
      "current_lineages is empty\n",
      "\n",
      "\n"
     ]
    },
    {
     "data": {
      "application/vnd.jupyter.widget-view+json": {
       "model_id": "d03645286983411eb6ad4b7f6e35a4b7",
       "version_major": 2,
       "version_minor": 0
      },
      "text/plain": [
       "  0%|          | 0/3 [00:00<?, ?it/s]"
      ]
     },
     "metadata": {},
     "output_type": "display_data"
    },
    {
     "name": "stdout",
     "output_type": "stream",
     "text": [
      "current_lineages is empty\n",
      "\n",
      "\n"
     ]
    },
    {
     "data": {
      "application/vnd.jupyter.widget-view+json": {
       "model_id": "37f28dd5515a456f83e848f8c41d3b61",
       "version_major": 2,
       "version_minor": 0
      },
      "text/plain": [
       "  0%|          | 0/3 [00:00<?, ?it/s]"
      ]
     },
     "metadata": {},
     "output_type": "display_data"
    },
    {
     "name": "stdout",
     "output_type": "stream",
     "text": [
      "current_lineages is empty\n",
      "\n",
      "\n"
     ]
    },
    {
     "data": {
      "application/vnd.jupyter.widget-view+json": {
       "model_id": "b427d2846ada4d879b701ba3b7573c67",
       "version_major": 2,
       "version_minor": 0
      },
      "text/plain": [
       "  0%|          | 0/3 [00:00<?, ?it/s]"
      ]
     },
     "metadata": {},
     "output_type": "display_data"
    },
    {
     "name": "stdout",
     "output_type": "stream",
     "text": [
      "current_lineages is empty\n",
      "\n",
      "\n"
     ]
    },
    {
     "data": {
      "application/vnd.jupyter.widget-view+json": {
       "model_id": "2994c6d68d28416a862c84a12e674cdc",
       "version_major": 2,
       "version_minor": 0
      },
      "text/plain": [
       "  0%|          | 0/3 [00:00<?, ?it/s]"
      ]
     },
     "metadata": {},
     "output_type": "display_data"
    },
    {
     "name": "stdout",
     "output_type": "stream",
     "text": [
      "current_lineages is empty\n",
      "\n",
      "\n"
     ]
    },
    {
     "data": {
      "application/vnd.jupyter.widget-view+json": {
       "model_id": "4ea2f6b1e88d4c27a1d3c7b8b04e3658",
       "version_major": 2,
       "version_minor": 0
      },
      "text/plain": [
       "  0%|          | 0/3 [00:00<?, ?it/s]"
      ]
     },
     "metadata": {},
     "output_type": "display_data"
    }
   ],
   "source": [
    "\n",
    "algorithms = {\"Vanilla Greedy\": cas.solver.VanillaGreedySolver(),\n",
    "              'UPGMA': cas.solver.UPGMASolver(dissimilarity_function=cas.solver.dissimilarity.weighted_hamming_distance),\n",
    "              'NeighborJoining': cas.solver.NeighborJoiningSolver(dissimilarity_function=cas.solver.dissimilarity.weighted_hamming_distance, add_root=True)\n",
    "             }\n",
    "\n",
    "iterations = 10\n",
    "\n",
    "algorithm_to_performance_triplets = defaultdict(list)\n",
    "algorithm_to_performance_rf = defaultdict(list)\n",
    "for _ in tqdm(range(iterations)):\n",
    "    \n",
    "    ground_truth_tree = bd_sim.simulate_tree()\n",
    "    \n",
    "    np.random.seed(None)\n",
    "    lt_sim.overlay_data(ground_truth_tree)\n",
    "    \n",
    "    for algorithm_name in tqdm(algorithms.keys()):\n",
    "        \n",
    "        algorithm = algorithms[algorithm_name]\n",
    "        \n",
    "        reconstructed_tree = cas.data.CassiopeiaTree(character_matrix = ground_truth_tree.character_matrix, missing_state_indicator = -1)\n",
    "        algorithm.solve(reconstructed_tree)\n",
    "        \n",
    "        # ground_truth_tree.collapse_mutationless_edges(infer_ancestral_characters = False)\n",
    "        reconstructed_tree.collapse_mutationless_edges(infer_ancestral_characters = True)\n",
    "\n",
    "        rf, rf_max = cas.critique.compare.robinson_foulds(ground_truth_tree, reconstructed_tree)\n",
    "        \n",
    "        triplets = cas.critique.compare.triplets_correct(ground_truth_tree, reconstructed_tree, number_of_trials=500)\n",
    "        algorithm_to_performance_triplets[algorithm_name].append(np.mean(list(triplets[0].values())))\n",
    "        \n",
    "        algorithm_to_performance_rf[algorithm_name].append(rf / rf_max)\n",
    "\n",
    "        \n",
    "        \n",
    "        "
   ]
  },
  {
   "cell_type": "markdown",
   "metadata": {},
   "source": [
    "We can easily visualize results after reformatting the dictionaries of performances"
   ]
  },
  {
   "cell_type": "code",
   "execution_count": 15,
   "metadata": {},
   "outputs": [],
   "source": [
    "algorithm_to_performance_triplets_df = pd.DataFrame(columns = ['Algorithm', 'Triplets'])\n",
    "for algorithm in algorithm_to_performance_triplets:\n",
    "    \n",
    "    entries = algorithm_to_performance_triplets[algorithm]\n",
    "    new_df = pd.DataFrame([algorithm]*len(entries), columns = ['Algorithm'])\n",
    "    new_df['Triplets'] = entries\n",
    "    \n",
    "    algorithm_to_performance_triplets_df = pd.concat([algorithm_to_performance_triplets_df, new_df])\n",
    "    \n",
    "algorithm_to_performance_rf_df = pd.DataFrame(columns = ['Algorithm', 'RF'])\n",
    "for algorithm in algorithm_to_performance_rf:\n",
    "    \n",
    "    entries = algorithm_to_performance_rf[algorithm]\n",
    "    new_df = pd.DataFrame([algorithm]*len(entries), columns = ['Algorithm'])\n",
    "    new_df['RF'] = entries\n",
    "    \n",
    "    algorithm_to_performance_rf_df = pd.concat([algorithm_to_performance_rf_df, new_df])"
   ]
  },
  {
   "cell_type": "code",
   "execution_count": 16,
   "metadata": {},
   "outputs": [
    {
     "data": {
      "image/png": "[encoded data removed]",
      "text/plain": [
       "<Figure size 432x288 with 1 Axes>"
      ]
     },
     "metadata": {
      "needs_background": "light"
     },
     "output_type": "display_data"
    },
    {
     "data": {
      "image/png": "[encoded data removed]",
      "text/plain": [
       "<Figure size 432x288 with 1 Axes>"
      ]
     },
     "metadata": {
      "needs_background": "light"
     },
     "output_type": "display_data"
    }
   ],
   "source": [
    "sns.boxplot(data=algorithm_to_performance_triplets_df, x = 'Algorithm', y = 'Triplets')\n",
    "plt.show()\n",
    "\n",
    "sns.boxplot(data=algorithm_to_performance_rf_df, x = 'Algorithm', y = 'RF')\n",
    "plt.show()"
   ]
  },
  {
   "cell_type": "code",
   "execution_count": 17,
   "metadata": {},
   "outputs": [
    {
     "name": "stdout",
     "output_type": "stream",
     "text": [
      "         Algorithm  Triplets\n",
      "0   Vanilla Greedy     1.000\n",
      "1   Vanilla Greedy     1.000\n",
      "2   Vanilla Greedy     0.502\n",
      "3   Vanilla Greedy     1.000\n",
      "4   Vanilla Greedy     1.000\n",
      "5   Vanilla Greedy     1.000\n",
      "6   Vanilla Greedy     1.000\n",
      "7   Vanilla Greedy     0.486\n",
      "8   Vanilla Greedy     1.000\n",
      "9   Vanilla Greedy     1.000\n",
      "0            UPGMA     1.000\n",
      "1            UPGMA     1.000\n",
      "2            UPGMA     0.500\n",
      "3            UPGMA     0.530\n",
      "4            UPGMA     1.000\n",
      "5            UPGMA     1.000\n",
      "6            UPGMA     1.000\n",
      "7            UPGMA     0.504\n",
      "8            UPGMA     1.000\n",
      "9            UPGMA     1.000\n",
      "0  NeighborJoining     1.000\n",
      "1  NeighborJoining     1.000\n",
      "2  NeighborJoining     0.518\n",
      "3  NeighborJoining     0.256\n",
      "4  NeighborJoining     1.000\n",
      "5  NeighborJoining     1.000\n",
      "6  NeighborJoining     1.000\n",
      "7  NeighborJoining     0.482\n",
      "8  NeighborJoining     1.000\n",
      "9  NeighborJoining     1.000\n"
     ]
    }
   ],
   "source": [
    "print(algorithm_to_performance_triplets_df)"
   ]
  },
  {
   "cell_type": "code",
   "execution_count": null,
   "metadata": {},
   "outputs": [],
   "source": []
  }
 ],
 "metadata": {
  "kernelspec": {
   "display_name": "Python 3 (ipykernel)",
   "language": "python",
   "name": "python3"
  },
  "language_info": {
   "codemirror_mode": {
    "name": "ipython",
    "version": 3
   },
   "file_extension": ".py",
   "mimetype": "text/x-python",
   "name": "python",
   "nbconvert_exporter": "python",
   "pygments_lexer": "ipython3",
   "version": "3.9.13"
  },
  "vscode": {
   "interpreter": {
    "hash": "7281e31e459af3472f32ee3e42bf55bc232e963b8420c818e7fe7d635207fd6b"
   }
  }
 },
 "nbformat": 4,
 "nbformat_minor": 4
}
